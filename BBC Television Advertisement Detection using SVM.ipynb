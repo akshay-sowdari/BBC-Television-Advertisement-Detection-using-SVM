{
 "cells": [
  {
   "cell_type": "markdown",
   "metadata": {},
   "source": [
    "## 1. Data Understanding "
   ]
  },
  {
   "cell_type": "markdown",
   "metadata": {},
   "source": [
    "This dataset includes a binary classification dataset where each row represents a large number of audio-visual features calculated for a running program. \n",
    "\n",
    "The column 'target' has values -1 and 1 respectively denoting non-commercial and commercial program.\n",
    "\n",
    "In feature File, there are numbered columns. Below here is the description for different columns as provided by the source.\n",
    "\n",
    "Shot Length\n",
    "1\n",
    "\n",
    "Motion Distribution( Mean and Variance)\n",
    "2 - 3\n",
    "\n",
    "Frame Difference Distribution ( Mean and Variance)\n",
    "4 - 5\n",
    "\n",
    "Short time energy ( Mean and Variance)\n",
    "6 - 7\n",
    "\n",
    "ZCR( Mean and Variance)\n",
    "8 - 9\n",
    "\n",
    "Spectral Centroid ( Mean and Variance)\n",
    "10 - 11\n",
    "\n",
    "Spectral Roll off ( Mean and Variance)\n",
    "12 - 13\n",
    "\n",
    "Spectral Flux ( Mean and Variance)\n",
    "14 - 15\n",
    "\n",
    "Fundamental Frequency ( Mean and Variance)\n",
    "16 - 17\n",
    "\n",
    "Motion Distribution ( 40 bins)\n",
    "18 - 58\n",
    "\n",
    "Frame Difference Distribution ( 32 bins)\n",
    "59 - 91\n",
    "\n",
    "Text area distribution ( 15 bins Mean and 15 bins for variance )\n",
    "92 - 122\n",
    "\n",
    "Bag of Audio Words ( 4000 bins)\n",
    "123 - 4123\n",
    "\n",
    "Edge change Ratio ( Mean and Variance)\n",
    "4124 - 4125\n",
    "\n",
    "\n",
    "This is a dataset with 232 columns and all of these are very different types of audio-visual features. Useful exploration of this dataset will be to create good classifiers which can efficiently detect Tv commercials."
   ]
  },
  {
   "cell_type": "markdown",
   "metadata": {},
   "source": [
    "Link to dataset - https://www.kaggle.com/datasets/shyambhu/bbc-television-advertisementcsv"
   ]
  },
  {
   "cell_type": "markdown",
   "metadata": {},
   "source": [
    "## 2. Import Libraries "
   ]
  },
  {
   "cell_type": "code",
   "execution_count": 418,
   "metadata": {},
   "outputs": [],
   "source": [
    "#Import libraries\n",
    "import pandas as pd\n",
    "import numpy as np\n",
    "import matplotlib.pyplot as plt\n",
    "import seaborn as sns"
   ]
  },
  {
   "cell_type": "markdown",
   "metadata": {},
   "source": [
    "## 3. Data Collection and Loading"
   ]
  },
  {
   "cell_type": "code",
   "execution_count": 419,
   "metadata": {},
   "outputs": [],
   "source": [
    "#Load CSV file\n",
    "df=pd.read_csv(r\"C:\\Users\\sowda\\Edubridge\\BBC.csv\")"
   ]
  },
  {
   "cell_type": "markdown",
   "metadata": {},
   "source": [
    "## 4. Data Inspection"
   ]
  },
  {
   "cell_type": "code",
   "execution_count": 420,
   "metadata": {},
   "outputs": [
    {
     "data": {
      "text/html": [
       "<div>\n",
       "<style scoped>\n",
       "    .dataframe tbody tr th:only-of-type {\n",
       "        vertical-align: middle;\n",
       "    }\n",
       "\n",
       "    .dataframe tbody tr th {\n",
       "        vertical-align: top;\n",
       "    }\n",
       "\n",
       "    .dataframe thead th {\n",
       "        text-align: right;\n",
       "    }\n",
       "</style>\n",
       "<table border=\"1\" class=\"dataframe\">\n",
       "  <thead>\n",
       "    <tr style=\"text-align: right;\">\n",
       "      <th></th>\n",
       "      <th>index</th>\n",
       "      <th>target</th>\n",
       "      <th>qid</th>\n",
       "      <th>2</th>\n",
       "      <th>3</th>\n",
       "      <th>4</th>\n",
       "      <th>5</th>\n",
       "      <th>6</th>\n",
       "      <th>7</th>\n",
       "      <th>8</th>\n",
       "      <th>...</th>\n",
       "      <th>924</th>\n",
       "      <th>959</th>\n",
       "      <th>1002</th>\n",
       "      <th>1016</th>\n",
       "      <th>1028</th>\n",
       "      <th>1048</th>\n",
       "      <th>1112</th>\n",
       "      <th>1119</th>\n",
       "      <th>4124</th>\n",
       "      <th>4125</th>\n",
       "    </tr>\n",
       "  </thead>\n",
       "  <tbody>\n",
       "    <tr>\n",
       "      <th>0</th>\n",
       "      <td>123</td>\n",
       "      <td>1</td>\n",
       "      <td>0</td>\n",
       "      <td>1.316440</td>\n",
       "      <td>1.516003</td>\n",
       "      <td>5.605905</td>\n",
       "      <td>5.346760</td>\n",
       "      <td>0.013233</td>\n",
       "      <td>0.010729</td>\n",
       "      <td>0.091743</td>\n",
       "      <td>...</td>\n",
       "      <td>0.008475</td>\n",
       "      <td>0.036017</td>\n",
       "      <td>0.006356</td>\n",
       "      <td>0.008475</td>\n",
       "      <td>0.0</td>\n",
       "      <td>0.002119</td>\n",
       "      <td>0.000000</td>\n",
       "      <td>0.0</td>\n",
       "      <td>0.422334</td>\n",
       "      <td>0.663918</td>\n",
       "    </tr>\n",
       "    <tr>\n",
       "      <th>1</th>\n",
       "      <td>124</td>\n",
       "      <td>1</td>\n",
       "      <td>0</td>\n",
       "      <td>0.966079</td>\n",
       "      <td>0.546420</td>\n",
       "      <td>4.046537</td>\n",
       "      <td>3.190973</td>\n",
       "      <td>0.008338</td>\n",
       "      <td>0.011490</td>\n",
       "      <td>0.075504</td>\n",
       "      <td>...</td>\n",
       "      <td>0.109244</td>\n",
       "      <td>0.117647</td>\n",
       "      <td>0.006303</td>\n",
       "      <td>0.000000</td>\n",
       "      <td>0.0</td>\n",
       "      <td>0.008403</td>\n",
       "      <td>0.000000</td>\n",
       "      <td>0.0</td>\n",
       "      <td>0.332664</td>\n",
       "      <td>0.766184</td>\n",
       "    </tr>\n",
       "    <tr>\n",
       "      <th>2</th>\n",
       "      <td>109</td>\n",
       "      <td>1</td>\n",
       "      <td>0</td>\n",
       "      <td>2.035407</td>\n",
       "      <td>0.571643</td>\n",
       "      <td>9.551406</td>\n",
       "      <td>5.803685</td>\n",
       "      <td>0.015189</td>\n",
       "      <td>0.014294</td>\n",
       "      <td>0.094209</td>\n",
       "      <td>...</td>\n",
       "      <td>0.074519</td>\n",
       "      <td>0.062500</td>\n",
       "      <td>0.004808</td>\n",
       "      <td>0.000000</td>\n",
       "      <td>0.0</td>\n",
       "      <td>0.009615</td>\n",
       "      <td>0.000000</td>\n",
       "      <td>0.0</td>\n",
       "      <td>0.346674</td>\n",
       "      <td>0.225022</td>\n",
       "    </tr>\n",
       "    <tr>\n",
       "      <th>3</th>\n",
       "      <td>86</td>\n",
       "      <td>1</td>\n",
       "      <td>0</td>\n",
       "      <td>3.206008</td>\n",
       "      <td>0.786326</td>\n",
       "      <td>10.092709</td>\n",
       "      <td>2.693058</td>\n",
       "      <td>0.013962</td>\n",
       "      <td>0.011039</td>\n",
       "      <td>0.092042</td>\n",
       "      <td>...</td>\n",
       "      <td>0.061728</td>\n",
       "      <td>0.046296</td>\n",
       "      <td>0.012346</td>\n",
       "      <td>0.000000</td>\n",
       "      <td>0.0</td>\n",
       "      <td>0.012346</td>\n",
       "      <td>0.003086</td>\n",
       "      <td>0.0</td>\n",
       "      <td>0.993323</td>\n",
       "      <td>0.840083</td>\n",
       "    </tr>\n",
       "    <tr>\n",
       "      <th>4</th>\n",
       "      <td>76</td>\n",
       "      <td>1</td>\n",
       "      <td>0</td>\n",
       "      <td>3.135861</td>\n",
       "      <td>0.896346</td>\n",
       "      <td>10.348035</td>\n",
       "      <td>2.651010</td>\n",
       "      <td>0.020914</td>\n",
       "      <td>0.012061</td>\n",
       "      <td>0.108018</td>\n",
       "      <td>...</td>\n",
       "      <td>0.000000</td>\n",
       "      <td>0.000000</td>\n",
       "      <td>0.003521</td>\n",
       "      <td>0.000000</td>\n",
       "      <td>0.0</td>\n",
       "      <td>0.045775</td>\n",
       "      <td>0.007042</td>\n",
       "      <td>0.0</td>\n",
       "      <td>0.341520</td>\n",
       "      <td>0.710470</td>\n",
       "    </tr>\n",
       "  </tbody>\n",
       "</table>\n",
       "<p>5 rows × 232 columns</p>\n",
       "</div>"
      ],
      "text/plain": [
       "   index  target  qid         2         3          4         5         6  \\\n",
       "0    123       1    0  1.316440  1.516003   5.605905  5.346760  0.013233   \n",
       "1    124       1    0  0.966079  0.546420   4.046537  3.190973  0.008338   \n",
       "2    109       1    0  2.035407  0.571643   9.551406  5.803685  0.015189   \n",
       "3     86       1    0  3.206008  0.786326  10.092709  2.693058  0.013962   \n",
       "4     76       1    0  3.135861  0.896346  10.348035  2.651010  0.020914   \n",
       "\n",
       "          7         8  ...       924       959      1002      1016  1028  \\\n",
       "0  0.010729  0.091743  ...  0.008475  0.036017  0.006356  0.008475   0.0   \n",
       "1  0.011490  0.075504  ...  0.109244  0.117647  0.006303  0.000000   0.0   \n",
       "2  0.014294  0.094209  ...  0.074519  0.062500  0.004808  0.000000   0.0   \n",
       "3  0.011039  0.092042  ...  0.061728  0.046296  0.012346  0.000000   0.0   \n",
       "4  0.012061  0.108018  ...  0.000000  0.000000  0.003521  0.000000   0.0   \n",
       "\n",
       "       1048      1112  1119      4124      4125  \n",
       "0  0.002119  0.000000   0.0  0.422334  0.663918  \n",
       "1  0.008403  0.000000   0.0  0.332664  0.766184  \n",
       "2  0.009615  0.000000   0.0  0.346674  0.225022  \n",
       "3  0.012346  0.003086   0.0  0.993323  0.840083  \n",
       "4  0.045775  0.007042   0.0  0.341520  0.710470  \n",
       "\n",
       "[5 rows x 232 columns]"
      ]
     },
     "execution_count": 420,
     "metadata": {},
     "output_type": "execute_result"
    }
   ],
   "source": [
    "#Print Top 5 rows\n",
    "df.head()"
   ]
  },
  {
   "cell_type": "code",
   "execution_count": 421,
   "metadata": {},
   "outputs": [
    {
     "data": {
      "text/plain": [
       "(17720, 232)"
      ]
     },
     "execution_count": 421,
     "metadata": {},
     "output_type": "execute_result"
    }
   ],
   "source": [
    "#Dimensions of dataset\n",
    "df.shape"
   ]
  },
  {
   "cell_type": "code",
   "execution_count": 422,
   "metadata": {
    "scrolled": false
   },
   "outputs": [
    {
     "name": "stdout",
     "output_type": "stream",
     "text": [
      "<class 'pandas.core.frame.DataFrame'>\n",
      "RangeIndex: 17720 entries, 0 to 17719\n",
      "Columns: 232 entries, index to 4125\n",
      "dtypes: float64(228), int64(4)\n",
      "memory usage: 31.4 MB\n"
     ]
    }
   ],
   "source": [
    "#Examine the data types\n",
    "df.info()"
   ]
  },
  {
   "cell_type": "code",
   "execution_count": 423,
   "metadata": {},
   "outputs": [
    {
     "data": {
      "text/plain": [
       "Index(['index', 'target', 'qid', '2', '3', '4', '5', '6', '7', '8',\n",
       "       ...\n",
       "       '924', '959', '1002', '1016', '1028', '1048', '1112', '1119', '4124',\n",
       "       '4125'],\n",
       "      dtype='object', length=232)"
      ]
     },
     "execution_count": 423,
     "metadata": {},
     "output_type": "execute_result"
    }
   ],
   "source": [
    "#Explore Columns\n",
    "df.columns"
   ]
  },
  {
   "cell_type": "code",
   "execution_count": 424,
   "metadata": {},
   "outputs": [
    {
     "data": {
      "text/plain": [
       "index     0\n",
       "target    0\n",
       "qid       0\n",
       "2         0\n",
       "3         0\n",
       "         ..\n",
       "1048      0\n",
       "1112      0\n",
       "1119      0\n",
       "4124      0\n",
       "4125      0\n",
       "Length: 232, dtype: int64"
      ]
     },
     "execution_count": 424,
     "metadata": {},
     "output_type": "execute_result"
    }
   ],
   "source": [
    "#Check for Null Values\n",
    "df.isnull().sum()"
   ]
  },
  {
   "cell_type": "markdown",
   "metadata": {},
   "source": [
    "## 5.Data Cleaning"
   ]
  },
  {
   "cell_type": "markdown",
   "metadata": {},
   "source": [
    "No Null values are found"
   ]
  },
  {
   "cell_type": "code",
   "execution_count": 425,
   "metadata": {},
   "outputs": [
    {
     "data": {
      "text/plain": [
       "0"
      ]
     },
     "execution_count": 425,
     "metadata": {},
     "output_type": "execute_result"
    }
   ],
   "source": [
    "#Check for duplicate rows\n",
    "df.duplicated().sum()"
   ]
  },
  {
   "cell_type": "markdown",
   "metadata": {},
   "source": [
    "No duplicate rows are present"
   ]
  },
  {
   "cell_type": "markdown",
   "metadata": {},
   "source": [
    "## 6. Exploratory Data Analysis"
   ]
  },
  {
   "cell_type": "code",
   "execution_count": 426,
   "metadata": {},
   "outputs": [
    {
     "data": {
      "text/html": [
       "<div>\n",
       "<style scoped>\n",
       "    .dataframe tbody tr th:only-of-type {\n",
       "        vertical-align: middle;\n",
       "    }\n",
       "\n",
       "    .dataframe tbody tr th {\n",
       "        vertical-align: top;\n",
       "    }\n",
       "\n",
       "    .dataframe thead th {\n",
       "        text-align: right;\n",
       "    }\n",
       "</style>\n",
       "<table border=\"1\" class=\"dataframe\">\n",
       "  <thead>\n",
       "    <tr style=\"text-align: right;\">\n",
       "      <th></th>\n",
       "      <th>count</th>\n",
       "      <th>mean</th>\n",
       "      <th>std</th>\n",
       "      <th>min</th>\n",
       "      <th>25%</th>\n",
       "      <th>50%</th>\n",
       "      <th>75%</th>\n",
       "      <th>max</th>\n",
       "    </tr>\n",
       "  </thead>\n",
       "  <tbody>\n",
       "    <tr>\n",
       "      <th>index</th>\n",
       "      <td>17720.0</td>\n",
       "      <td>129.677314</td>\n",
       "      <td>335.345837</td>\n",
       "      <td>25.000000</td>\n",
       "      <td>34.000000</td>\n",
       "      <td>62.000000</td>\n",
       "      <td>124.000000</td>\n",
       "      <td>33871.000000</td>\n",
       "    </tr>\n",
       "    <tr>\n",
       "      <th>target</th>\n",
       "      <td>17720.0</td>\n",
       "      <td>-0.050113</td>\n",
       "      <td>0.998772</td>\n",
       "      <td>-1.000000</td>\n",
       "      <td>-1.000000</td>\n",
       "      <td>-1.000000</td>\n",
       "      <td>1.000000</td>\n",
       "      <td>1.000000</td>\n",
       "    </tr>\n",
       "    <tr>\n",
       "      <th>qid</th>\n",
       "      <td>17720.0</td>\n",
       "      <td>0.000000</td>\n",
       "      <td>0.000000</td>\n",
       "      <td>0.000000</td>\n",
       "      <td>0.000000</td>\n",
       "      <td>0.000000</td>\n",
       "      <td>0.000000</td>\n",
       "      <td>0.000000</td>\n",
       "    </tr>\n",
       "    <tr>\n",
       "      <th>2</th>\n",
       "      <td>17720.0</td>\n",
       "      <td>2.075590</td>\n",
       "      <td>2.480090</td>\n",
       "      <td>0.000000</td>\n",
       "      <td>0.129339</td>\n",
       "      <td>1.184123</td>\n",
       "      <td>3.056430</td>\n",
       "      <td>21.679216</td>\n",
       "    </tr>\n",
       "    <tr>\n",
       "      <th>3</th>\n",
       "      <td>17720.0</td>\n",
       "      <td>1.197020</td>\n",
       "      <td>1.448049</td>\n",
       "      <td>0.000000</td>\n",
       "      <td>0.086560</td>\n",
       "      <td>0.745513</td>\n",
       "      <td>1.802253</td>\n",
       "      <td>28.756622</td>\n",
       "    </tr>\n",
       "    <tr>\n",
       "      <th>...</th>\n",
       "      <td>...</td>\n",
       "      <td>...</td>\n",
       "      <td>...</td>\n",
       "      <td>...</td>\n",
       "      <td>...</td>\n",
       "      <td>...</td>\n",
       "      <td>...</td>\n",
       "      <td>...</td>\n",
       "    </tr>\n",
       "    <tr>\n",
       "      <th>1048</th>\n",
       "      <td>17720.0</td>\n",
       "      <td>0.011438</td>\n",
       "      <td>0.027180</td>\n",
       "      <td>0.000000</td>\n",
       "      <td>0.000000</td>\n",
       "      <td>0.000000</td>\n",
       "      <td>0.012490</td>\n",
       "      <td>0.840909</td>\n",
       "    </tr>\n",
       "    <tr>\n",
       "      <th>1112</th>\n",
       "      <td>17720.0</td>\n",
       "      <td>0.000718</td>\n",
       "      <td>0.005108</td>\n",
       "      <td>0.000000</td>\n",
       "      <td>0.000000</td>\n",
       "      <td>0.000000</td>\n",
       "      <td>0.000000</td>\n",
       "      <td>0.223214</td>\n",
       "    </tr>\n",
       "    <tr>\n",
       "      <th>1119</th>\n",
       "      <td>17720.0</td>\n",
       "      <td>0.000112</td>\n",
       "      <td>0.002635</td>\n",
       "      <td>0.000000</td>\n",
       "      <td>0.000000</td>\n",
       "      <td>0.000000</td>\n",
       "      <td>0.000000</td>\n",
       "      <td>0.125000</td>\n",
       "    </tr>\n",
       "    <tr>\n",
       "      <th>4124</th>\n",
       "      <td>17720.0</td>\n",
       "      <td>0.500252</td>\n",
       "      <td>0.288963</td>\n",
       "      <td>0.000032</td>\n",
       "      <td>0.248851</td>\n",
       "      <td>0.499183</td>\n",
       "      <td>0.751989</td>\n",
       "      <td>0.999842</td>\n",
       "    </tr>\n",
       "    <tr>\n",
       "      <th>4125</th>\n",
       "      <td>17720.0</td>\n",
       "      <td>0.498342</td>\n",
       "      <td>0.286683</td>\n",
       "      <td>0.000078</td>\n",
       "      <td>0.251171</td>\n",
       "      <td>0.496712</td>\n",
       "      <td>0.746082</td>\n",
       "      <td>0.999890</td>\n",
       "    </tr>\n",
       "  </tbody>\n",
       "</table>\n",
       "<p>232 rows × 8 columns</p>\n",
       "</div>"
      ],
      "text/plain": [
       "          count        mean         std        min        25%        50%  \\\n",
       "index   17720.0  129.677314  335.345837  25.000000  34.000000  62.000000   \n",
       "target  17720.0   -0.050113    0.998772  -1.000000  -1.000000  -1.000000   \n",
       "qid     17720.0    0.000000    0.000000   0.000000   0.000000   0.000000   \n",
       "2       17720.0    2.075590    2.480090   0.000000   0.129339   1.184123   \n",
       "3       17720.0    1.197020    1.448049   0.000000   0.086560   0.745513   \n",
       "...         ...         ...         ...        ...        ...        ...   \n",
       "1048    17720.0    0.011438    0.027180   0.000000   0.000000   0.000000   \n",
       "1112    17720.0    0.000718    0.005108   0.000000   0.000000   0.000000   \n",
       "1119    17720.0    0.000112    0.002635   0.000000   0.000000   0.000000   \n",
       "4124    17720.0    0.500252    0.288963   0.000032   0.248851   0.499183   \n",
       "4125    17720.0    0.498342    0.286683   0.000078   0.251171   0.496712   \n",
       "\n",
       "               75%           max  \n",
       "index   124.000000  33871.000000  \n",
       "target    1.000000      1.000000  \n",
       "qid       0.000000      0.000000  \n",
       "2         3.056430     21.679216  \n",
       "3         1.802253     28.756622  \n",
       "...            ...           ...  \n",
       "1048      0.012490      0.840909  \n",
       "1112      0.000000      0.223214  \n",
       "1119      0.000000      0.125000  \n",
       "4124      0.751989      0.999842  \n",
       "4125      0.746082      0.999890  \n",
       "\n",
       "[232 rows x 8 columns]"
      ]
     },
     "execution_count": 426,
     "metadata": {},
     "output_type": "execute_result"
    }
   ],
   "source": [
    "#Statistical Description\n",
    "df.describe().T"
   ]
  },
  {
   "cell_type": "code",
   "execution_count": 427,
   "metadata": {},
   "outputs": [
    {
     "name": "stderr",
     "output_type": "stream",
     "text": [
      "C:\\Users\\sowda\\anaconda3\\lib\\site-packages\\seaborn\\_decorators.py:43: FutureWarning: Pass the following variable as a keyword arg: x. From version 0.12, the only valid positional argument will be `data`, and passing other arguments without an explicit keyword will result in an error or misinterpretation.\n",
      "  FutureWarning\n"
     ]
    },
    {
     "data": {
      "text/plain": [
       "<matplotlib.axes._subplots.AxesSubplot at 0x22c9fe16208>"
      ]
     },
     "execution_count": 427,
     "metadata": {},
     "output_type": "execute_result"
    },
    {
     "data": {
      "image/png": "[encoded data removed]",
      "text/plain": [
       "<Figure size 576x432 with 1 Axes>"
      ]
     },
     "metadata": {
      "needs_background": "light"
     },
     "output_type": "display_data"
    }
   ],
   "source": [
    "#Examining Target Varibale\n",
    "fig = plt.figure(figsize=(8, 6))\n",
    "sns.countplot(df.target)"
   ]
  },
  {
   "cell_type": "markdown",
   "metadata": {},
   "source": [
    "## 7. Correlation Analysis"
   ]
  },
  {
   "cell_type": "code",
   "execution_count": 428,
   "metadata": {
    "scrolled": true
   },
   "outputs": [
    {
     "name": "stdout",
     "output_type": "stream",
     "text": [
      "index    -0.153418\n",
      "target    1.000000\n",
      "qid            NaN\n",
      "2         0.079897\n",
      "3         0.162799\n",
      "            ...   \n",
      "1048     -0.114388\n",
      "1112     -0.008795\n",
      "1119      0.026093\n",
      "4124      0.005264\n",
      "4125      0.001783\n",
      "Name: target, Length: 232, dtype: float64\n"
     ]
    }
   ],
   "source": [
    "#Find correlations of features with target\n",
    "correlations = df.corr()['target']\n",
    "print(correlations)"
   ]
  },
  {
   "cell_type": "code",
   "execution_count": 429,
   "metadata": {},
   "outputs": [],
   "source": [
    "#drop columns with irrelevant data\n",
    "df.drop(['qid','88'],axis=1,inplace=True)"
   ]
  },
  {
   "cell_type": "code",
   "execution_count": 430,
   "metadata": {},
   "outputs": [
    {
     "name": "stdout",
     "output_type": "stream",
     "text": [
      "Index(['target'], dtype='object')\n"
     ]
    }
   ],
   "source": [
    "#Print features with significant correlation with target\n",
    "selected_columns = correlations[(correlations > 0.5) | (correlations < -0.5)].index\n",
    "print(selected_columns)"
   ]
  },
  {
   "cell_type": "markdown",
   "metadata": {},
   "source": [
    "None of the columns show any particular correlation with target columns hence it is ideal to use Non Parametric Algorithms that don't make strong assumptions about the underlying distribution of the data."
   ]
  },
  {
   "cell_type": "markdown",
   "metadata": {},
   "source": [
    "## 8. Outlier Detection "
   ]
  },
  {
   "cell_type": "code",
   "execution_count": 431,
   "metadata": {},
   "outputs": [
    {
     "name": "stdout",
     "output_type": "stream",
     "text": [
      "Columns with Potential Outliers (based on skewness):\n",
      "['index', '3', '5', '20', '21', '22', '23', '24', '25', '26', '27', '28', '29', '32', '33', '34', '35', '36', '37', '38', '39', '40', '41', '42', '43', '44', '45', '46', '47', '48', '49', '50', '51', '52', '53', '54', '55', '56', '57', '62', '65', '67', '68', '69', '70', '71', '72', '73', '74', '75', '76', '77', '78', '79', '80', '81', '82', '83', '84', '85', '86', '90', '91', '92', '93', '94', '95', '96', '97', '98', '99', '100', '101', '105', '106', '107', '108', '123', '125', '127', '128', '129', '130', '131', '134', '137', '141', '142', '143', '144', '145', '149', '152', '156', '162', '166', '168', '171', '176', '178', '182', '185', '186', '187', '188', '192', '194', '195', '197', '198', '203', '206', '208', '209', '212', '215', '219', '220', '221', '223', '229', '230', '231', '233', '234', '236', '240', '262', '269', '271', '276', '296', '300', '307', '317', '319', '324', '347', '366', '406', '407', '409', '426', '441', '444', '448', '462', '463', '478', '482', '487', '491', '505', '519', '559', '572', '573', '580', '601', '621', '623', '627', '634', '651', '689', '694', '709', '726', '762', '767', '779', '785', '792', '816', '840', '852', '871', '877', '882', '924', '959', '1002', '1016', '1028', '1048', '1112', '1119']\n"
     ]
    }
   ],
   "source": [
    "# Define the skewness threshold\n",
    "skewness_threshold = 2.0  # You can adjust this threshold based on data\n",
    "\n",
    "# Initialize an empty list to store columns with potential outliers\n",
    "columns_with_outliers = []\n",
    "\n",
    "# Loop through each column\n",
    "for column in df.columns:\n",
    "    # Calculate the skewness of the column\n",
    "    skewness = df[column].skew()\n",
    "\n",
    "    # Check if skewness exceeds the threshold\n",
    "    if np.abs(skewness) > skewness_threshold:\n",
    "        columns_with_outliers.append(column)\n",
    "\n",
    "# Print columns with potential outliers\n",
    "print(\"Columns with Potential Outliers (based on skewness):\")\n",
    "print(columns_with_outliers)\n"
   ]
  },
  {
   "cell_type": "code",
   "execution_count": 432,
   "metadata": {},
   "outputs": [
    {
     "data": {
      "text/plain": [
       "187"
      ]
     },
     "execution_count": 432,
     "metadata": {},
     "output_type": "execute_result"
    }
   ],
   "source": [
    "#Count of columns with Outliers\n",
    "len(columns_with_outliers)"
   ]
  },
  {
   "cell_type": "markdown",
   "metadata": {},
   "source": [
    "A significant Number of Variables have Outliers and features doesn't show any strong correlation with target hence it is ideal to use \"RBF\" (Radial Basis Function) kernel, also known as the Gaussian kernel function with SVM. "
   ]
  },
  {
   "cell_type": "markdown",
   "metadata": {},
   "source": [
    "RBF kernel is robust to outliers is because it measures the similarity between data points based on their distance in a transformed space. It's a non-linear kernel that can capture complex relationships in the data while being less influenced by individual extreme values. It can also handle complex relationships, outliers, and non-linear patterns well. "
   ]
  },
  {
   "cell_type": "markdown",
   "metadata": {},
   "source": [
    "## 9. Feature Selection "
   ]
  },
  {
   "cell_type": "markdown",
   "metadata": {},
   "source": [
    "As we're using Support Vector Machines with non-linear kernels(RBF), which is often less sensitive to irrelevant or redundant features compared to parametric algorithms. However we use SelectKBest to find to top 10 features with significant correlation"
   ]
  },
  {
   "cell_type": "code",
   "execution_count": 433,
   "metadata": {},
   "outputs": [
    {
     "name": "stdout",
     "output_type": "stream",
     "text": [
      "Selected Features:\n",
      "Index(['11', '13', '17', '104', '142', '156', '168', '176', '762', '924'], dtype='object')\n"
     ]
    }
   ],
   "source": [
    "from sklearn.feature_selection import SelectKBest, f_classif\n",
    "\n",
    "\n",
    "# Separate the features (X) and the target variable (y)\n",
    "X = df.drop('target', axis=1)  # Replace 'target_column' with your target column name\n",
    "y = df['target']\n",
    "\n",
    "# Perform feature selection using SelectKBest and f_classif (ANOVA F-value)\n",
    "num_features_to_select = 10  \n",
    "\n",
    "# Initialize the SelectKBest object with f_classif scoring function\n",
    "selector = SelectKBest(score_func=f_classif, k=num_features_to_select)\n",
    "\n",
    "# Fit the selector on the features and target\n",
    "selector.fit(X, y)\n",
    "\n",
    "# Get the indices of the selected features\n",
    "selected_indices = selector.get_support(indices=True)\n",
    "\n",
    "# Get the names of the selected features\n",
    "selected_features = X.columns[selected_indices]\n",
    "\n",
    "print(\"Selected Features:\")\n",
    "print(selected_features)"
   ]
  },
  {
   "cell_type": "markdown",
   "metadata": {},
   "source": [
    "## 10. Feature Engineering "
   ]
  },
  {
   "cell_type": "markdown",
   "metadata": {},
   "source": [
    "No categorical data is present in our dataset for Encoding"
   ]
  },
  {
   "cell_type": "code",
   "execution_count": 434,
   "metadata": {},
   "outputs": [],
   "source": [
    "# Separate the features (X) and the target variable (y)\n",
    "X = df.drop('target', axis=1)  \n",
    "y = df['target']"
   ]
  },
  {
   "cell_type": "code",
   "execution_count": 435,
   "metadata": {},
   "outputs": [
    {
     "name": "stdout",
     "output_type": "stream",
     "text": [
      "(17720, 229) (17720,)\n"
     ]
    }
   ],
   "source": [
    "print('{} {}'.format(X.shape,y.shape))"
   ]
  },
  {
   "cell_type": "code",
   "execution_count": 436,
   "metadata": {},
   "outputs": [],
   "source": [
    "#Feature scaling\n",
    "from sklearn.preprocessing import StandardScaler\n",
    "sc = StandardScaler()\n",
    "X_new = sc.fit_transform(X)"
   ]
  },
  {
   "cell_type": "code",
   "execution_count": 437,
   "metadata": {},
   "outputs": [
    {
     "name": "stdout",
     "output_type": "stream",
     "text": [
      "(17720, 229) (17720,)\n"
     ]
    }
   ],
   "source": [
    "print('{} {}'.format(X_new.shape,y.shape))"
   ]
  },
  {
   "cell_type": "markdown",
   "metadata": {},
   "source": [
    "## 11. Data Splitting"
   ]
  },
  {
   "cell_type": "code",
   "execution_count": 438,
   "metadata": {},
   "outputs": [],
   "source": [
    "#tsplitting data into test and train data\n",
    "from sklearn.model_selection import train_test_split\n",
    "X_train,X_test,Y_train,Y_test = train_test_split(X_new,y,test_size=0.3,random_state=1)"
   ]
  },
  {
   "cell_type": "code",
   "execution_count": 439,
   "metadata": {},
   "outputs": [
    {
     "name": "stdout",
     "output_type": "stream",
     "text": [
      "(12404, 229) (5316, 229) (12404,) (5316,)\n"
     ]
    }
   ],
   "source": [
    "print('{} {} {} {}'.format(X_train.shape,X_test.shape,Y_train.shape,Y_test.shape))"
   ]
  },
  {
   "cell_type": "markdown",
   "metadata": {},
   "source": [
    "## 12. Model Building"
   ]
  },
  {
   "cell_type": "code",
   "execution_count": 440,
   "metadata": {},
   "outputs": [],
   "source": [
    "#Build SVM model with default parameters\n",
    "from sklearn.svm import SVC\n",
    "sc = SVC()"
   ]
  },
  {
   "cell_type": "code",
   "execution_count": 441,
   "metadata": {},
   "outputs": [
    {
     "data": {
      "text/plain": [
       "{'C': 1.0,\n",
       " 'break_ties': False,\n",
       " 'cache_size': 200,\n",
       " 'class_weight': None,\n",
       " 'coef0': 0.0,\n",
       " 'decision_function_shape': 'ovr',\n",
       " 'degree': 3,\n",
       " 'gamma': 'scale',\n",
       " 'kernel': 'rbf',\n",
       " 'max_iter': -1,\n",
       " 'probability': False,\n",
       " 'random_state': None,\n",
       " 'shrinking': True,\n",
       " 'tol': 0.001,\n",
       " 'verbose': False}"
      ]
     },
     "execution_count": 441,
     "metadata": {},
     "output_type": "execute_result"
    }
   ],
   "source": [
    "#Default Parameters\n",
    "sc.get_params()"
   ]
  },
  {
   "cell_type": "code",
   "execution_count": 442,
   "metadata": {},
   "outputs": [
    {
     "data": {
      "text/plain": [
       "SVC()"
      ]
     },
     "execution_count": 442,
     "metadata": {},
     "output_type": "execute_result"
    }
   ],
   "source": [
    "#Fit train data \n",
    "sc.fit(X_train,Y_train)"
   ]
  },
  {
   "cell_type": "markdown",
   "metadata": {},
   "source": [
    "## 13. Model Evaluation  and Reporting"
   ]
  },
  {
   "cell_type": "code",
   "execution_count": 443,
   "metadata": {},
   "outputs": [],
   "source": [
    "#Model Prediction\n",
    "y_predict = sc.predict(X_test)"
   ]
  },
  {
   "cell_type": "code",
   "execution_count": 444,
   "metadata": {},
   "outputs": [
    {
     "name": "stdout",
     "output_type": "stream",
     "text": [
      "              precision    recall  f1-score   support\n",
      "\n",
      "          -1       0.84      0.92      0.88      2830\n",
      "           1       0.90      0.80      0.85      2486\n",
      "\n",
      "    accuracy                           0.86      5316\n",
      "   macro avg       0.87      0.86      0.86      5316\n",
      "weighted avg       0.87      0.86      0.86      5316\n",
      "\n"
     ]
    }
   ],
   "source": [
    "#Classification Report\n",
    "from sklearn.metrics import classification_report\n",
    "print(classification_report(Y_test,y_predict))"
   ]
  },
  {
   "cell_type": "code",
   "execution_count": 445,
   "metadata": {},
   "outputs": [
    {
     "data": {
      "text/plain": [
       "<matplotlib.axes._subplots.AxesSubplot at 0x22c9fb7b048>"
      ]
     },
     "execution_count": 445,
     "metadata": {},
     "output_type": "execute_result"
    },
    {
     "data": {
      "image/png": "[encoded data removed]",
      "text/plain": [
       "<Figure size 576x432 with 2 Axes>"
      ]
     },
     "metadata": {
      "needs_background": "light"
     },
     "output_type": "display_data"
    }
   ],
   "source": [
    "#Confusion Matrix\n",
    "from sklearn.metrics import confusion_matrix\n",
    "cm=confusion_matrix(Y_test,y_predict)\n",
    "fig = plt.figure(figsize=(8, 6))\n",
    "sns.heatmap(cm,annot=True,cmap=\"YlGnBu\", fmt=\"d\")"
   ]
  },
  {
   "cell_type": "markdown",
   "metadata": {},
   "source": [
    "## 14. Cross-Validation "
   ]
  },
  {
   "cell_type": "code",
   "execution_count": 446,
   "metadata": {},
   "outputs": [
    {
     "name": "stdout",
     "output_type": "stream",
     "text": [
      "Training Score :  0.8664947471753065\n"
     ]
    }
   ],
   "source": [
    "#Cross-Validation on Train data\n",
    "from sklearn.model_selection import cross_val_score\n",
    "\n",
    "sc_train = cross_val_score(sc,X_train,Y_train,cv=5)\n",
    "\n",
    "print('Training Score : ',sc_train.mean())"
   ]
  },
  {
   "cell_type": "code",
   "execution_count": 447,
   "metadata": {},
   "outputs": [
    {
     "name": "stdout",
     "output_type": "stream",
     "text": [
      "Testing Score :  0.8474410980414347\n"
     ]
    }
   ],
   "source": [
    "#Cross-Validation on Test data\n",
    "from sklearn.model_selection import cross_val_score\n",
    "\n",
    "sc_test = cross_val_score(sc,X_test,Y_test,cv=5)\n",
    "print('Testing Score : ',sc_test.mean())"
   ]
  },
  {
   "cell_type": "markdown",
   "metadata": {},
   "source": [
    "It is observed that Cross-Validation (CV) Score on both the Training and Testing data is almost equal, which implies that the model is generalizing well and is likely to have a good balance between bias and variance."
   ]
  },
  {
   "cell_type": "markdown",
   "metadata": {},
   "source": [
    "## 15. Conclusion "
   ]
  },
  {
   "cell_type": "markdown",
   "metadata": {},
   "source": [
    "In Summary</br>\n",
    "\n",
    "● Dataset Overview:\n",
    "\n",
    "    1. We possess a dataset consisting of 17,720 rows and 232 variables.\n",
    "\n",
    "    2. The target variable bears values of -1 and 1, signifying non-commercial and commercial programs respectively.\n",
    "\n",
    "● Data Quality Check:\n",
    "\n",
    "    3. No null values or duplicate rows have been identified.\n",
    "\n",
    "    4. Two features, namely 'qid' and '88', contain only zeros and exhibit no correlation with the target. Consequently, they were removed.\n",
    "\n",
    "● Outliers and Correlation Analysis:\n",
    "\n",
    "    5. A substantial number of variables display outlier presence.\n",
    "\n",
    "    6. Notably, features do not exhibit strong correlations with the target variable.\n",
    "\n",
    "    7. This leads us to opt for non-parametric algorithms, with 'RBF' (Radial Basis Function) kernel being chosen for SVM due to its adaptability to complex relationships.\n",
    "\n",
    "● Data Encoding and Scaling:\n",
    "\n",
    "    8. Absence of categorical data negates the need for encoding.\n",
    "\n",
    "    9. Standard scaling has been implemented for feature scaling.\n",
    "\n",
    "● Data Splitting:\n",
    "\n",
    "    10. The dataset has been partitioned into a training set (70%) and a testing set (30%).\n",
    "\n",
    "● Model Building and Parameters:\n",
    "\n",
    "    11. An SVM model was constructed, utilizing the 'RBF' kernel, along with parameters:\n",
    "        'C': 1.0,\n",
    "        'degree': 3,\n",
    "        'gamma': 'scale',\n",
    "        'kernel': 'rbf'.\n",
    "\n",
    "● Model Evaluation:\n",
    "\n",
    "    12. The model exhibited an accuracy of 86% upon evaluation.\n",
    "\n",
    "● Cross Validation:\n",
    "\n",
    "    13. Cross-validation was conducted, revealing comparable CV scores for both training and testing data. This suggests effective generalization and a balanced bias-variance trade-off."
   ]
  },
  {
   "cell_type": "code",
   "execution_count": null,
   "metadata": {},
   "outputs": [],
   "source": []
  }
 ],
 "metadata": {
  "kernelspec": {
   "display_name": "Python 3",
   "language": "python",
   "name": "python3"
  },
  "language_info": {
   "codemirror_mode": {
    "name": "ipython",
    "version": 3
   },
   "file_extension": ".py",
   "mimetype": "text/x-python",
   "name": "python",
   "nbconvert_exporter": "python",
   "pygments_lexer": "ipython3",
   "version": "3.7.6"
  }
 },
 "nbformat": 4,
 "nbformat_minor": 4
}
